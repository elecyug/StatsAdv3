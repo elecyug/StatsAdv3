{
 "cells": [
  {
   "cell_type": "markdown",
   "id": "06f8517d-24cb-497d-a0ea-b24a4bc25e70",
   "metadata": {},
   "source": [
    "### Q1. Explain the properties of the F-distribution.\n",
    "\n",
    "\n",
    "Ans>>>>\n",
    "\n",
    "The F-distribution is a probability distribution that arises frequently in statistics, particularly in the analysis of variances. Its key properties include:\n",
    "\n",
    "Non-negativity: The F-distribution only takes on positive values because it’s derived from the ratio of variances (which are non-negative).\n",
    "Right-skewed: The F-distribution is asymmetric and right-skewed, particularly with smaller degrees of freedom in the numerator and denominator. As degrees of freedom increase, the distribution approaches symmetry.\n",
    "Dependent on degrees of freedom: The shape of the F-distribution is determined by two parameters, degrees of freedom for the numerator (df₁) and the denominator (df₂). These influence the shape and spread of the distribution.\n",
    "Used for ratio comparisons: It is often used to compare variances by examining the ratio of two variances, typically in an ANOVA or an F-test for equality of variances.\n",
    "\n",
    "\n",
    "\n"
   ]
  },
  {
   "cell_type": "markdown",
   "id": "c6521a41-138d-4a8b-bc38-ebc32a82c4e8",
   "metadata": {},
   "source": [
    "### Q2. In which types of statistical tests is the F-distribution used, and why is it appropriate for these tests?\n",
    "The F-distribution is used in several types of statistical tests, including:\n",
    "\n",
    "\n",
    "Ans>>>>\n",
    "\n",
    "Analysis of Variance (ANOVA): ANOVA uses the F-distribution to determine if there are significant differences between group means by comparing the variance among group means to the variance within groups.\n",
    "F-tests for equality of variances: F-tests are used to test if two populations have equal variances by comparing the ratio of their sample variances.\n",
    "Regression analysis: The F-test is used in multiple regression analysis to assess the overall significance of the model by comparing the explained variance to the unexplained variance.\n",
    "The F-distribution is appropriate for these tests because it models the expected distribution of the ratio of two variances under the null hypothesis, making it ideal for comparing variances in samples and between groups."
   ]
  },
  {
   "cell_type": "markdown",
   "id": "9c998b68-661f-4db2-b2fa-52180a3b9df2",
   "metadata": {},
   "source": [
    "### Q3. What are the key assumptions required for conducting an F-test to compare the variances of two populations?\n",
    "The key assumptions for conducting an F-test to compare the variances of two populations include:\n",
    "\n",
    "Ans>>>>\n",
    "\n",
    "Independence: The samples from the two populations should be independent.\n",
    "Normality: Both populations should be normally distributed, especially important for smaller sample sizes.\n",
    "Random Sampling: Data should be collected from the populations randomly to represent the populations accurately.\n",
    "Violations of these assumptions, especially the normality assumption, can make the F-test unreliable, as it is sensitive to non-normal distributions."
   ]
  },
  {
   "cell_type": "markdown",
   "id": "31f880ad-186a-4fd3-997b-ea500c1f24a2",
   "metadata": {},
   "source": [
    "### Q4. What is the purpose of ANOVA, and how does it differ from a t-test?\n",
    "\n",
    "Ans>>>>\n",
    "\n",
    "The purpose of ANOVA (Analysis of Variance) is to determine whether there are any statistically significant differences between the means of three or more independent groups. Unlike a t-test, which compares the means of two groups, ANOVA can compare multiple groups simultaneously.\n",
    "    \n",
    "Key differences:\n",
    "\n",
    "ANOVA vs. t-test: A t-test compares the means of two groups, while ANOVA can test for differences across three or more groups.\n",
    "Error Rate: Multiple t-tests increase the likelihood of Type I error (false positives) with each additional test, while ANOVA controls the error rate when comparing multiple groups."
   ]
  },
  {
   "cell_type": "markdown",
   "id": "5f3d235f-d285-44a7-9f4f-85698d95c12e",
   "metadata": {},
   "source": [
    "### Q5. Explain when and why you would use a one-way ANOVA instead of multiple t-tests when comparing more than two groups.\n",
    "\n",
    "Ans>>>>\n",
    "\n",
    "One-way ANOVA should be used instead of multiple t-tests when comparing the means of three or more groups to:\n",
    "\n",
    "Control for Type I error: Multiple t-tests would inflate the overall Type I error rate, increasing the chance of finding a significant result by random chance. ANOVA addresses this by testing all group comparisons simultaneously.\n",
    "Efficiency: ANOVA provides a single test to compare all groups, making it more efficient and statistically sound than performing multiple t-tests."
   ]
  },
  {
   "cell_type": "markdown",
   "id": "5c69b232-ad6d-4a2f-b1d8-f47cc5df78f5",
   "metadata": {},
   "source": [
    "### Q6. Explain how variance is partitioned in ANOVA into between-group variance and within-group variance. How does this partitioning contribute to the calculation of the F-statistic?\n",
    "\n",
    "Ans>>>>\n",
    "In ANOVA, the total variance is divided into:\n",
    "\n",
    "Between-group variance: Measures the variability due to differences between the means of each group. This captures how much the group means deviate from the overall mean.\n",
    "Within-group variance: Measures the variability within each group, reflecting individual differences within the groups.\n",
    "The F-statistic is calculated as the ratio of between-group variance to within-group variance:\n",
    "\n",
    "\n",
    "F=  Between-group variance / Within-group variance\n",
    " \n",
    "A large F-value suggests that the between-group variance is greater than the within-group variance, indicating significant differences among group means."
   ]
  },
  {
   "cell_type": "markdown",
   "id": "8557fc40-fc90-4016-9327-a6d38b4e5f1f",
   "metadata": {},
   "source": [
    "### Q7. Compare the classical (frequentist) approach to ANOVA with the Bayesian approach. What are the key differences in terms of how they handle uncertainty, parameter estimation, and hypothesis testing?\n",
    "\n",
    "Ans>>>>\n",
    "\n",
    "Uncertainty: The classical approach uses p-values to determine if results are statistically significant, while the Bayesian approach quantifies uncertainty using probability distributions and credible intervals.\n",
    "Parameter Estimation: In the frequentist approach, parameter estimates are point estimates, while in the Bayesian approach, parameters are estimated as probability distributions reflecting the uncertainty in these estimates.\n",
    "Hypothesis Testing: Classical ANOVA tests for significance (rejecting or not rejecting the null hypothesis), whereas Bayesian ANOVA calculates the probability of the hypotheses given the data, often through Bayes factors."
   ]
  },
  {
   "cell_type": "markdown",
   "id": "a032e5e7-583b-414c-aa6c-19ad28a9522a",
   "metadata": {},
   "source": [
    "### Q8. Perform an F-test for two sets of incomes to determine if variances are equal.\n",
    "\n",
    "Ans>>>>"
   ]
  },
  {
   "cell_type": "code",
   "execution_count": 14,
   "id": "9fbebf66-75e9-4863-8ffc-65c55422ed06",
   "metadata": {},
   "outputs": [
    {
     "data": {
      "text/plain": [
       "(2.089171974522293, 0.24652429950266952)"
      ]
     },
     "execution_count": 14,
     "metadata": {},
     "output_type": "execute_result"
    }
   ],
   "source": [
    "import numpy as np\n",
    "import scipy.stats as stats\n",
    "\n",
    "# Data\n",
    "profession_a = [48, 52, 55, 60, 62]\n",
    "profession_b = [45, 50, 55, 52, 47]\n",
    "\n",
    "# Perform F-test\n",
    "f_statistic = np.var(profession_a, ddof=1) / np.var(profession_b, ddof=1)\n",
    "df1 = len(profession_a) - 1\n",
    "df2 = len(profession_b) - 1\n",
    "p_value = 1 - stats.f.cdf(f_statistic, df1, df2)\n",
    "\n",
    "f_statistic, p_value\n"
   ]
  },
  {
   "cell_type": "markdown",
   "id": "b3095aeb-2893-48a8-81f4-d6d4a67c2564",
   "metadata": {},
   "source": [
    "### Q9. Conduct a one-way ANOVA to test differences in heights across three regions.\n",
    "\n",
    "Ans>>>>"
   ]
  },
  {
   "cell_type": "code",
   "execution_count": 17,
   "id": "3fe6a551-7244-47c7-9c35-1d1a55841a21",
   "metadata": {},
   "outputs": [
    {
     "data": {
      "text/plain": [
       "(67.87330316742101, 2.870664187937026e-07)"
      ]
     },
     "execution_count": 17,
     "metadata": {},
     "output_type": "execute_result"
    }
   ],
   "source": [
    "import scipy.stats as stats\n",
    "\n",
    "# Data for each region\n",
    "region_a = [160, 162, 165, 158, 164]\n",
    "region_b = [172, 175, 170, 168, 174]\n",
    "region_c = [180, 182, 179, 185, 183]\n",
    "\n",
    "# Perform one-way ANOVA\n",
    "f_statistic, p_value = stats.f_oneway(region_a, region_b, region_c)\n",
    "\n",
    "f_statistic, p_value\n"
   ]
  },
  {
   "cell_type": "code",
   "execution_count": null,
   "id": "5de24880-da61-41cb-bad7-d1b7069e2d4a",
   "metadata": {},
   "outputs": [],
   "source": []
  }
 ],
 "metadata": {
  "kernelspec": {
   "display_name": "Python 3 (ipykernel)",
   "language": "python",
   "name": "python3"
  },
  "language_info": {
   "codemirror_mode": {
    "name": "ipython",
    "version": 3
   },
   "file_extension": ".py",
   "mimetype": "text/x-python",
   "name": "python",
   "nbconvert_exporter": "python",
   "pygments_lexer": "ipython3",
   "version": "3.12.4"
  }
 },
 "nbformat": 4,
 "nbformat_minor": 5
}
